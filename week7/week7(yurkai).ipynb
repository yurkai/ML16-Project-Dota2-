{
 "cells": [
  {
   "cell_type": "markdown",
   "metadata": {},
   "source": [
    "# Проект: предсказания победителя в онлайн-игре\n",
    "Дата: 5 марта 2016\n",
    "\n",
    "Выполнил: yurkai"
   ]
  },
  {
   "cell_type": "code",
   "execution_count": 1,
   "metadata": {
    "collapsed": false
   },
   "outputs": [],
   "source": [
    "import pandas as pd\n",
    "import numpy as np\n",
    "import matplotlib.pyplot as plt\n",
    "from sklearn.cross_validation import KFold\n",
    "from sklearn.ensemble import GradientBoostingClassifier\n",
    "from sklearn.metrics import roc_auc_score\n",
    "from sklearn.cross_validation import cross_val_score\n",
    "from sklearn.linear_model import LogisticRegression\n",
    "from sklearn.preprocessing import StandardScaler\n",
    "import time\n",
    "import datetime\n",
    "import csv\n",
    "\n",
    "%matplotlib inline"
   ]
  },
  {
   "cell_type": "code",
   "execution_count": 2,
   "metadata": {
    "collapsed": true
   },
   "outputs": [],
   "source": [
    "# these functions are for writing parameters of classifier and its results into file\n",
    "\n",
    "# writing column names into file\n",
    "# DO IT JUST ONCE\n",
    "def write_column_names(filename, columns):\n",
    "    myfile = open(filename, \"w\")\n",
    "    writer = csv.writer(myfile)\n",
    "    writer.writerow(columns)\n",
    "    myfile.close()\n",
    "\n",
    "# appending a row int file\n",
    "def write_results(filename, results):\n",
    "    myfile = open(filename, \"a\")\n",
    "    writer = csv.writer(myfile)\n",
    "    writer.writerow(results)\n",
    "    myfile.close()\n",
    "\n",
    "# use this to get results row in right way\n",
    "def get_results_values(start_time, duration, aucroc, X_train, X_test, clf):\n",
    "    results = [start_time.strftime(\"%Y-%m-%d %H:%M:%S\"), duration, aucroc, X_train, X_test]\n",
    "    params = clf.get_params()\n",
    "    for par in params:\n",
    "        results.append(params[par])\n",
    "    return results"
   ]
  },
  {
   "cell_type": "markdown",
   "metadata": {},
   "source": [
    "## Подход 1: градиентный бустинг \"в лоб\"\n",
    "В отчете по данному этапу вы должны ответить на следующие вопросы:\n",
    "1. Какие признаки имеют пропуски среди своих значений? Что могут означать пропуски в этих признаках (ответьте на этот вопрос для двух любых признаков)?\n",
    "+ Как называется столбец, содержащий целевую переменную?\n",
    "+ Как долго проводилась кросс-валидация для градиентного бустинга с 30 деревьями? Инструкцию по измерению времени можно найти ниже по тексту. Какое качество при этом получилось? Напомним, что в данном задании мы используем метрику качества AUC-ROC.\n",
    "+ Имеет ли смысл использовать больше 30 деревьев в градиентном бустинге? Что бы вы предложили делать, чтобы ускорить его обучение при увеличении количества деревьев?"
   ]
  },
  {
   "cell_type": "markdown",
   "metadata": {},
   "source": [
    "#### 1.1. Какие признаки имеют пропуски среди своих значений? Что могут означать пропуски в этих признаках (ответьте на этот вопрос для двух любых признаков)?\n",
    "Читаем данные и переносим колонки итогов матча `duration`, `radiant_win`, `tower_status_radiant`, `tower_status_dire`, `barracks_status_radiant`, `barracks_status_dire` в переменные `Y` и `y` и удаляем из исходного дата фрейма `X`.\n",
    "\n",
    "В следующей ячейке выводится количество пропусков в данных и признаки, в которых они (пропуски) встречаются."
   ]
  },
  {
   "cell_type": "code",
   "execution_count": 3,
   "metadata": {
    "collapsed": false
   },
   "outputs": [],
   "source": [
    "# reading data\n",
    "dat = pd.read_csv('./data/features.csv', index_col='match_id')\n",
    "X = dat\n",
    "# results of match, radiant_win is target feature\n",
    "result_features = ['duration', 'radiant_win', 'tower_status_radiant', 'tower_status_dire', \n",
    "           'barracks_status_radiant', 'barracks_status_dire']\n",
    "Y = X[result_features]\n",
    "y = Y['radiant_win']\n",
    "\n",
    "# delete resulting features from dataset\n",
    "X.drop(result_features, 1, inplace=True)"
   ]
  },
  {
   "cell_type": "code",
   "execution_count": 4,
   "metadata": {
    "collapsed": false
   },
   "outputs": [
    {
     "name": "stdout",
     "output_type": "stream",
     "text": [
      "total NAs: 193087\n",
      "features contain NAs:\n",
      "\tIndex([u'first_blood_time', u'first_blood_team', u'first_blood_player1',\n",
      "       u'first_blood_player2', u'radiant_bottle_time', u'radiant_courier_time',\n",
      "       u'radiant_flying_courier_time', u'radiant_first_ward_time',\n",
      "       u'dire_bottle_time', u'dire_courier_time', u'dire_flying_courier_time',\n",
      "       u'dire_first_ward_time'],\n",
      "      dtype='object')\n"
     ]
    }
   ],
   "source": [
    "# getting NAs thru all features\n",
    "# print len(X) - X.count()\n",
    "print 'total NAs:', sum (len(X) - X.count())\n",
    "\n",
    "# features contain NAs\n",
    "print 'features contain NAs:\\n\\t', X.ix[:, X.count() != len(X) ].columns"
   ]
  },
  {
   "cell_type": "markdown",
   "metadata": {},
   "source": [
    "Переменные, содержащие пропущенные значения, это время различных событий в игре (покупки предметов, получение первого удара и т.п.), а так же переменные от этого времени зависящие. Сами эти признаки формировались из исходной таблицы, где брались данные по первым 5 минутам матча. Например, столбец `first_blood_team` – команда, первая получившая удар, может содержать пропущенные значения потому, что за первые 5 минут игры никто ударов друг другу не наносил. Признак `dire_courier_time` имеет максимальное значение 296 (секунд), см. выше, логично предположить, что команда Dare купила эту мандулу (извините, не разбираюсь в Доте и в играх совсем) уже после пятой минуты."
   ]
  },
  {
   "cell_type": "code",
   "execution_count": 5,
   "metadata": {
    "collapsed": false
   },
   "outputs": [
    {
     "name": "stdout",
     "output_type": "stream",
     "text": [
      "'first_blood_team' feature summary:\n",
      "count    77677.000000\n",
      "mean         0.521815\n",
      "std          0.499527\n",
      "min          0.000000\n",
      "25%          0.000000\n",
      "50%          1.000000\n",
      "75%          1.000000\n",
      "max          1.000000\n",
      "Name: first_blood_team, dtype: float64\n",
      "\n",
      "'dire_courier_time' feature summary:\n",
      "count    96554.000000\n",
      "mean       -80.191893\n",
      "std         15.261950\n",
      "min        -90.000000\n",
      "25%        -86.000000\n",
      "50%        -84.000000\n",
      "75%        -79.000000\n",
      "max        296.000000\n",
      "Name: dire_courier_time, dtype: float64\n",
      "\n",
      "number of missing values:\n",
      "first_blood_team     19553\n",
      "dire_courier_time      676\n",
      "dtype: int64\n"
     ]
    }
   ],
   "source": [
    "print \"'first_blood_team' feature summary:\\n\", X['first_blood_team'].describe()\n",
    "print \"\\n'dire_courier_time' feature summary:\\n\", X['dire_courier_time'].describe()\n",
    "print '\\nnumber of missing values:\\n', len(X) - X[['first_blood_team', 'dire_courier_time']].count()"
   ]
  },
  {
   "cell_type": "markdown",
   "metadata": {},
   "source": [
    "#### Замена пропущенных значений\n",
    "Заменим пропущенные значения нулями и убедимся, что больше пропущенных значений нет. "
   ]
  },
  {
   "cell_type": "code",
   "execution_count": 6,
   "metadata": {
    "collapsed": false
   },
   "outputs": [
    {
     "name": "stdout",
     "output_type": "stream",
     "text": [
      "total NAs: 0\n"
     ]
    }
   ],
   "source": [
    "X = X.fillna(0)\n",
    "print 'total NAs:', sum (len(X) - X.count())"
   ]
  },
  {
   "cell_type": "markdown",
   "metadata": {},
   "source": [
    "#### Как называется столбец, содержащий целевую переменную?\n",
    "Как указано в условии: \n",
    "> Итог матча: \n",
    "\n",
    "> radiant_win: 1, если победила команда Radiant, 0 — иначе\n",
    "\n",
    "Основные характеристки целевой переменной:"
   ]
  },
  {
   "cell_type": "code",
   "execution_count": 7,
   "metadata": {
    "collapsed": false
   },
   "outputs": [
    {
     "data": {
      "text/plain": [
       "count    97230.000000\n",
       "mean         0.518503\n",
       "std          0.499660\n",
       "min          0.000000\n",
       "25%          0.000000\n",
       "50%          1.000000\n",
       "75%          1.000000\n",
       "max          1.000000\n",
       "Name: radiant_win, dtype: float64"
      ]
     },
     "execution_count": 7,
     "metadata": {},
     "output_type": "execute_result"
    }
   ],
   "source": [
    "y.describe()"
   ]
  },
  {
   "cell_type": "markdown",
   "metadata": {},
   "source": [
    "#### 1.3.  Как долго проводилась кросс-валидация для градиентного бустинга с 30 деревьями? Какое качество при этом получилось? \n",
    "В этом задании мы используем метрику качества AUC-ROC. Как оказалось позже, обучение занимает продолжительное время, поэтому показатели обученных моделей записывались в файл, они содержат информацию о продолжительности обучения, обучающих и тестовых выборках, параметрах модели и т.п. Все графики в этом ноутбуке строятся по данным из файла.\n",
    "\n",
    "В следующих двух ячейках устанавливаются параметры классификатора (и файл, куда все данные будут записаны) и рабочий код обучения моделей. Т.к. обучение может занять какое-то время, то параметры обученных моделей читаются из файла `gb_results.csv`. Последняя ячейка подраздела содержит искомые ответы: обучение на 30 деревьях длилось `150 секунд`, при этом метрика оказалась равной `AUC-ROC=0.7018` "
   ]
  },
  {
   "cell_type": "code",
   "execution_count": null,
   "metadata": {
    "collapsed": false,
    "scrolled": false
   },
   "outputs": [],
   "source": [
    "# setting parameters for writing results into file\n",
    "# file for classifier results and params\n",
    "filename = 'gb_results.csv'\n",
    "\n",
    "# defining column names for GradientBoostingClassifier file\n",
    "params = GradientBoostingClassifier().get_params()\n",
    "columns = ['start_time', 'duration', 'AUCROC', 'X_train', 'X_test']\n",
    "clf_columns = [par for par in params]\n",
    "columns += clf_columns\n",
    "\n",
    "# !!! do it once if you don't want to delete previous results !!!\n",
    "# write_column_names(filename, columns)"
   ]
  },
  {
   "cell_type": "code",
   "execution_count": null,
   "metadata": {
    "collapsed": false
   },
   "outputs": [],
   "source": [
    "# Grdient Boosting on raw data using cross-validation, K=5\n",
    "\n",
    "# set model's parameters\n",
    "random_state = 19\n",
    "cv = KFold(n=len(X), n_folds=5, shuffle=True, random_state=random_state)\n",
    "trees = [10, 20, 30, 50, 70, 100, 120, 150, 200]\n",
    "learning_rates = [1.5, 1.0, 0.75, 0.5, 0.25, 0.1]\n",
    "\n",
    "# learning models and writing results\n",
    "for n_estimators in trees:\n",
    "    for learning_rate in learning_rates:\n",
    "        clf_gb = GradientBoostingClassifier(n_estimators=n_estimators, verbose=False, \n",
    "                                            random_state=random_state, learning_rate = learning_rate)\n",
    "        start_time = datetime.datetime.now()\n",
    "        scores = cross_val_score(clf_gb, X, y, cv=cv, scoring='roc_auc')\n",
    "        rocauc = scores.mean()\n",
    "        duration = (datetime.datetime.now() - start_time).total_seconds()\n",
    "        # writing results\n",
    "        results = get_results_values(start_time, duration, rocauc, '5Fold(X)', '5Fold(X)', clf_gb)\n",
    "        # uncomment next line to write into file again\n",
    "#         write_results(filename, results)\n",
    "        # comment these prints if you don't need'em\n",
    "        print \"\\nn_estimators:\", n_estimators\n",
    "        print \"learning_rate:\", learning_rate\n",
    "        print 'Time elapsed:', duration\n",
    "        print 'average AUC-ROC (5 folds): %0.4f' % rocauc"
   ]
  },
  {
   "cell_type": "code",
   "execution_count": 8,
   "metadata": {
    "collapsed": false
   },
   "outputs": [
    {
     "name": "stdout",
     "output_type": "stream",
     "text": [
      "Gradient Boosting\n",
      "\tduration: 150 sec, trees: 30, learning_rate: 0.5, AUC-ROC: 0.7018\n"
     ]
    }
   ],
   "source": [
    "# let's use data accumulated in file gb_results.csv\n",
    "res = pd.read_csv('gb_results.csv')\n",
    "\n",
    "# get time for learning model with n_estimators=30, learning_rate=0.5\n",
    "sec = res.duration[(res.n_estimators==30) & (res.learning_rate==0.5) & (res.X_train=='5Fold(X)')]\n",
    "aucroc = res.AUCROC[(res.n_estimators==30) & (res.learning_rate==0.5) & (res.X_train=='5Fold(X)')]\n",
    "print 'Gradient Boosting\\n\\tduration: %d sec, trees: %d, learning_rate: %0.1f, AUC-ROC: %0.4f' %(sec, 30, 0.5 , aucroc)"
   ]
  },
  {
   "cell_type": "markdown",
   "metadata": {},
   "source": [
    "#### 1.4. Имеет ли смысл использовать больше 30 деревьев в градиентном бустинге? Что бы вы предложили делать, чтобы ускорить его обучение при увеличении количества деревьев?\n",
    "\n",
    "Увеличив количество деревьев до 200 оказалось возможным поднять значение качества чуть более, чем на 1,5% (см. выведенные параметры). Однако обучение увеличилось более, чем в 6 раз. Хотя рост качества серьезно замедлился, все же возможно его повысить. По моему мнению, лучше потратить время не на обучение модели, а на работу с признаками, т.к. они сырые. Зависимость качества обучения от количества деревьев при различных значениях скорости обучения приведена на графике ниже.\n",
    "\n",
    "Для ускорения обучения можно использовать, например, использовать не кросс-валидацию, а отложенную тестовую выборку, т.е. обучать, скажем, на 75% данных, а на остальных тестировать модель , что уменьшит время обучения в пять раз (в код выше использовалась кросс-валидация по 5 частям, значит, модель обучалась 5 раз вместо одного)."
   ]
  },
  {
   "cell_type": "code",
   "execution_count": 9,
   "metadata": {
    "collapsed": false
   },
   "outputs": [
    {
     "name": "stdout",
     "output_type": "stream",
     "text": [
      "Gradient Boosting\n",
      "\tduration: 929 sec, trees: 200, learning_rate: 0.25, AUC-ROC: 0.7177\n"
     ]
    },
    {
     "data": {
      "image/png": "[encoded data removed]",
      "text/plain": [
       "<matplotlib.figure.Figure at 0x10bc46d50>"
      ]
     },
     "metadata": {},
     "output_type": "display_data"
    }
   ],
   "source": [
    "# let's use data accumulated in file gb_results.csv\n",
    "res = pd.read_csv('gb_results.csv')\n",
    "\n",
    "# get best model\n",
    "sec = res.duration[(res.n_estimators==200) & (res.learning_rate==0.25) & (res.X_train=='5Fold(X)')]\n",
    "aucroc = res.AUCROC[(res.n_estimators==200) & (res.learning_rate==0.25) & (res.X_train=='5Fold(X)')]\n",
    "print 'Gradient Boosting\\n\\tduration: %d sec, trees: %d, learning_rate: %0.2f, AUC-ROC: %0.4f' % \\\n",
    "                                                                        (sec, 200, 0.25 , aucroc)\n",
    "\n",
    "# plot perfomance of GBM for learning rates [0.1, 0.25, 0.5, 1.0]\n",
    "plt.figure(figsize=(8,6))\n",
    "plt.xlim([0,210])\n",
    "res = res[(res.X_train=='5Fold(X)') & (res.learning_rate.isin([0.1, 0.25, 0.5, 1.0]))]\n",
    "for lr in [0.1, 0.25, 0.5, 1.0]:\n",
    "    plt.plot(res.n_estimators[res.learning_rate==lr], res.AUCROC[res.learning_rate==lr], 'x-', label='lr='+str(lr))\n",
    "plt.legend(loc='lower right')\n",
    "plt.xlabel('n_estimators')\n",
    "plt.ylabel('AUC-ROC')\n",
    "plt.title('perfomance of GBM')\n",
    "plt.show()"
   ]
  },
  {
   "cell_type": "markdown",
   "metadata": {},
   "source": [
    "## Подход 2: Логистическая регрессия\n",
    "1. Какое качество получилось у логистической регрессии над всеми исходными признаками? Как оно соотносится с качеством градиентного бустинга? Чем вы можете объяснить эту разницу? Быстрее ли работает логистическая регрессия по сравнению с градиентным бустингом?\n",
    "+ Как влияет на качество логистической регрессии удаление категориальных признаков (укажите новое значение метрики качества)? Чем вы можете объяснить это изменение?\n",
    "+ Сколько различных идентификаторов героев существует в данной игре?\n",
    "+ Какое получилось качество при добавлении \"мешка слов\" по героям? Улучшилось ли оно по сравнению с предыдущим вариантом? Чем вы можете это объяснить?\n",
    "+ Какое минимальное и максимальное значение прогноза на тестовой выборке получилось у лучшего из алгоритмов?"
   ]
  },
  {
   "cell_type": "code",
   "execution_count": null,
   "metadata": {
    "collapsed": false
   },
   "outputs": [],
   "source": [
    "# set parameters for writing results into file\n",
    "# define column names for LogisticRegression file\n",
    "params = LogisticRegression().get_params()\n",
    "columns = ['start_time', 'duration', 'AUCROC', 'X_train', 'X_test']\n",
    "clf_columns = [par for par in params]\n",
    "columns += clf_columns\n",
    "\n",
    "# file for classifier results and params\n",
    "filename = 'lr_results.csv'\n",
    "\n",
    "# !!! do it once if you don't want to delete previous results !!!\n",
    "# write_column_names(filename, columns)"
   ]
  },
  {
   "cell_type": "markdown",
   "metadata": {},
   "source": [
    "#### 2.1 Какое качество получилось у логистической регрессии над всеми исходными признаками? Как оно соотносится с качеством градиентного бустинга? Чем вы можете объяснить эту разницу? Быстрее ли работает логистическая регрессия по сравнению с градиентным бустингом?\n",
    "\n",
    "Скорость обучения классификатора в этом случае оказалась в 12 раз выше, чем для градиентного бустинга (для 30 деревьев), а качество на 1% выше при `C=0.1`. Зависимость метрики от параметра регуляризации `C` показана ниже на графике. В целом, логистическая регрессия обучается быстрее потому, как по факту мы обучаем один классификатор, а в градиентном бустинге несколько десятков или сотен (пусть и более простых), которые потом объединяются в общую модель."
   ]
  },
  {
   "cell_type": "code",
   "execution_count": null,
   "metadata": {
    "collapsed": false
   },
   "outputs": [],
   "source": [
    "# Logistic regression on raw data using cross-validation, K=5\n",
    "# set parameters for classifier\n",
    "random_state = 19\n",
    "cv = KFold(n=len(X), n_folds=5, shuffle=True, random_state=random_state)\n",
    "C = np.logspace(-10, 10, 21)\n",
    "\n",
    "# scaling X (without categorical features)\n",
    "X_scaled = StandardScaler().fit_transform(X)\n",
    "\n",
    "# learning classifiers and writing results into file\n",
    "for c in C:\n",
    "    clf_lr = LogisticRegression(C=c, random_state=random_state, n_jobs=4)\n",
    "    start_time = datetime.datetime.now()\n",
    "    scores = cross_val_score(clf_lr, X_scaled, y, cv=cv, scoring='roc_auc')\n",
    "    rocauc = scores.mean()\n",
    "    duration = (datetime.datetime.now() - start_time).total_seconds()\n",
    "    # writing results\n",
    "    results = get_results_values(start_time, duration, rocauc, '5Fold(X_scaled)', '5Fold(X_scaled)', clf_lr)\n",
    "    # uncomment next line to write into file again\n",
    "#     write_results(filename, results)\n",
    "    # comment these prints if you don't need'em\n",
    "    print 'C:', c\n",
    "    print 'Time elapsed:', duration\n",
    "    print 'average AUC-ROC (5 folds): %0.8f' % rocauc"
   ]
  },
  {
   "cell_type": "code",
   "execution_count": 11,
   "metadata": {
    "collapsed": false
   },
   "outputs": [
    {
     "name": "stdout",
     "output_type": "stream",
     "text": [
      "Logistic Regression, raw data\n",
      "\tduration: 12 sec, C: 0.1, AUC-ROC: 0.7163\n"
     ]
    },
    {
     "data": {
      "image/png": "[encoded data removed]",
      "text/plain": [
       "<matplotlib.figure.Figure at 0x110012650>"
      ]
     },
     "metadata": {},
     "output_type": "display_data"
    }
   ],
   "source": [
    "# use data accumulated in file lr_results.csv\n",
    "res = pd.read_csv('lr_results.csv')\n",
    "\n",
    "# get time and AUC-ROC for learning model with C = 0.1\n",
    "sec = res.duration[(res.C==0.1) & (res.X_train=='5Fold(X_scaled)')]\n",
    "aucroc = res.AUCROC[(res.C==0.1) & (res.X_train=='5Fold(X_scaled)')]\n",
    "print 'Logistic Regression, raw data\\n\\tduration: %d sec, C: %s, AUC-ROC: %0.4f' %(sec, 0.1, aucroc)\n",
    "\n",
    "# plot perfomance of LR for C=[1e-10, 1e-9, ..., 1e9, 1e10]\n",
    "C = np.logspace(-10, 10, 21)\n",
    "plt.figure(figsize=(8,6))\n",
    "plt.xlim([1e-11,1e11])\n",
    "res = res[(res.X_train=='5Fold(X_scaled)') & (res.C.isin(C))]\n",
    "plt.plot(res.C, res.AUCROC, 'ro-')\n",
    "plt.xscale('log')\n",
    "plt.xlabel('C')\n",
    "plt.ylabel('AUC-ROC')\n",
    "plt.title('perfomance of LR')\n",
    "plt.show()"
   ]
  },
  {
   "cell_type": "markdown",
   "metadata": {},
   "source": [
    "#### 2.2. Как влияет на качество логистической регрессии удаление категориальных признаков (укажите новое значение метрики качества)? Чем вы можете объяснить это изменение?\n",
    "Названия признаков помещены в список `drop_cat`. Признаки были удалены из обучающей выборки. Полученные данные масштабировались и использовались для обучения классификатора. Разницы в метрике нет (см. график). Изменения в метрике отсутствуют потому как эти данные категориальные и их нельзя сравнивать друг с другом, например, вовсе не очевидно, чем один герой лучше другого."
   ]
  },
  {
   "cell_type": "code",
   "execution_count": 12,
   "metadata": {
    "collapsed": true
   },
   "outputs": [],
   "source": [
    "# categorical features\n",
    "drop_cat = ['lobby_type', 'r1_hero', 'r2_hero', 'r3_hero', 'r4_hero', \n",
    "           'r5_hero', 'd1_hero', 'd2_hero', 'd3_hero', 'd4_hero', 'd5_hero']"
   ]
  },
  {
   "cell_type": "code",
   "execution_count": null,
   "metadata": {
    "collapsed": false
   },
   "outputs": [],
   "source": [
    "# Logistic regression on data without categorical features \n",
    "# Cross-validation was used with K=5\n",
    "# set parameters for classifier\n",
    "random_state = 19\n",
    "cv = KFold(n=len(X), n_folds=5, shuffle=True, random_state=random_state)\n",
    "C = np.logspace(-10, 10, 21)\n",
    "\n",
    "# scaling X (without categorical features)\n",
    "X_scaled = StandardScaler().fit_transform(X.drop(drop_cat, 1))\n",
    "\n",
    "# learning classifiers and writing results into file\n",
    "for c in C:\n",
    "    clf_lr = LogisticRegression(C=c, random_state=random_state, n_jobs=4)\n",
    "    start_time = datetime.datetime.now()\n",
    "    scores = cross_val_score(clf_lr, X_scaled, y, cv=cv, scoring='roc_auc')\n",
    "    rocauc = scores.mean()\n",
    "    duration = (datetime.datetime.now() - start_time).total_seconds()\n",
    "    # writing results\n",
    "    results = get_results_values(start_time, duration, rocauc, '5Fold(X_scaled[-heroes])', \n",
    "                                 '5Fold(X_scaled[-heroes])', clf_lr)\n",
    "    # uncomment next line to write into file again\n",
    "#     write_results(filename, results)\n",
    "    # comment these prints if you don't need'em\n",
    "    print 'C:', c\n",
    "    print 'Time elapsed:', duration\n",
    "    print 'average AUC-ROC (5 folds): %0.8f' % rocauc"
   ]
  },
  {
   "cell_type": "code",
   "execution_count": 13,
   "metadata": {
    "collapsed": false
   },
   "outputs": [
    {
     "data": {
      "image/png": "[encoded data removed]",
      "text/plain": [
       "<matplotlib.figure.Figure at 0x10bc3b610>"
      ]
     },
     "metadata": {},
     "output_type": "display_data"
    }
   ],
   "source": [
    "# use data accumulated in file lr_results.csv\n",
    "res = pd.read_csv('lr_results.csv')\n",
    "\n",
    "# plot perfomance of LR for C=[1e-10, 1e-9, ..., 1e9, 1e10]\n",
    "C = np.logspace(-10, 10, 21)\n",
    "plt.figure(figsize=(8,6))\n",
    "plt.xlim([1e-11,1e11])\n",
    "res = res[res.C.isin(C)]\n",
    "plt.plot(res.C[res.X_train=='5Fold(X_scaled)'], res.AUCROC[res.X_train=='5Fold(X_scaled)'], \n",
    "         'ro-', label='with categorical features')\n",
    "plt.plot(res.C[res.X_train=='5Fold(X_scaled[-heroes])'], res.AUCROC[res.X_train=='5Fold(X_scaled[-heroes])'],\n",
    "         'bx-', label='without categorical features')\n",
    "plt.xscale('log')\n",
    "plt.legend(loc='lower right')\n",
    "plt.xlabel('C')\n",
    "plt.ylabel('AUC-ROC')\n",
    "plt.title('perfomance of LR')\n",
    "plt.show()"
   ]
  },
  {
   "cell_type": "markdown",
   "metadata": {
    "collapsed": false
   },
   "source": [
    "#### 2.3 Сколько различных идентификаторов героев существует в данной игре?\n",
    "В игре используется 109 уникальных героев, которые пронумерованы числами от 1 до 112 (есть пропущенные значения)."
   ]
  },
  {
   "cell_type": "code",
   "execution_count": 14,
   "metadata": {
    "collapsed": false
   },
   "outputs": [
    {
     "name": "stdout",
     "output_type": "stream",
     "text": [
      "number of unique heroes: 109\n",
      "id of heroes: 1, ..., 112\n",
      "N = 112\n"
     ]
    }
   ],
   "source": [
    "N = len(np.unique(X.ix[:,drop_cat]))\n",
    "print 'number of unique heroes:', N\n",
    "print 'id of heroes: %d, ..., %d' % (X.r1_hero.min(), X.r1_hero.max())\n",
    "N=112\n",
    "print 'N =', N"
   ]
  },
  {
   "cell_type": "markdown",
   "metadata": {},
   "source": [
    "#### 2.4. Какое получилось качество при добавлении \"мешка слов\" по героям? Улучшилось ли оно по сравнению с предыдущим вариантом? Чем вы можете это объяснить?\n",
    "При использовании \"мешка слов\" качество улучшилось до `AUC-ROC=0.7516`. Повышение качества можно объяснить тем, что классификатор не пытается сравнить значения категориальных признаков, а просто использует их наличие, что является своего рода \"сравнением\" для категорий этого признака.\n",
    "\n",
    "Также представлен график зависимости качества классификатора от параметра регуляризации с использованием мешка слов и без него."
   ]
  },
  {
   "cell_type": "code",
   "execution_count": 15,
   "metadata": {
    "collapsed": false
   },
   "outputs": [],
   "source": [
    "# use this function to get dummy variables\n",
    "def get_dummy_heroes(data):\n",
    "    X_pick = np.zeros((data.shape[0], N))\n",
    "    for i, match_id in enumerate(data.index):\n",
    "        for p in xrange(5):\n",
    "            X_pick[i, data.ix[match_id, 'r%d_hero' % (p+1)]-1] = 1\n",
    "            X_pick[i, data.ix[match_id, 'd%d_hero' % (p+1)]-1] = -1\n",
    "    return X_pick"
   ]
  },
  {
   "cell_type": "code",
   "execution_count": null,
   "metadata": {
    "collapsed": false
   },
   "outputs": [],
   "source": [
    "# Logistic regression on data with dummy fetures for `drop_cat` columns\n",
    "# Cross-validation was used with K=5\n",
    "# set parameters for classifier\n",
    "random_state = 19\n",
    "cv = KFold(n=len(X), n_folds=5, shuffle=True, random_state=random_state)\n",
    "C = np.logspace(-10, 10, 21)\n",
    "\n",
    "# scaling X (without categorical features) and add dummies\n",
    "X_scaled = StandardScaler().fit_transform(X.drop(drop_cat, 1))\n",
    "X_dummycat=np.hstack((X_scaled, get_dummy_heroes(X)))\n",
    "\n",
    "# learning classifiers and writing results into file\n",
    "for c in C:\n",
    "    clf_lr = LogisticRegression(C=c, random_state=random_state, n_jobs=4)\n",
    "    start_time = datetime.datetime.now()\n",
    "    scores = cross_val_score(clf_lr, X_dummycat, y, cv=cv, scoring='roc_auc')\n",
    "    rocauc = scores.mean()\n",
    "    duration = (datetime.datetime.now() - start_time).total_seconds()\n",
    "    # writing results\n",
    "    results = get_results_values(start_time, duration, rocauc, '5Fold(X_dummy)', \n",
    "                                 '5Fold(X_dummy)', clf_lr)\n",
    "    # uncomment next line to write into file again\n",
    "    write_results(filename, results)\n",
    "    # comment these prints if you don't need'em\n",
    "    print 'C:', c\n",
    "    print 'Time elapsed:', duration\n",
    "    print 'average AUC-ROC (5 folds): %0.8f' % rocauc"
   ]
  },
  {
   "cell_type": "code",
   "execution_count": 16,
   "metadata": {
    "collapsed": false
   },
   "outputs": [
    {
     "name": "stdout",
     "output_type": "stream",
     "text": [
      "Logistic Regression using dummy variables\n",
      "\tduration: 20 sec, C: 0.1, AUC-ROC: 0.7516\n"
     ]
    },
    {
     "data": {
      "image/png": "[encoded data removed]",
      "text/plain": [
       "<matplotlib.figure.Figure at 0x11004df90>"
      ]
     },
     "metadata": {},
     "output_type": "display_data"
    }
   ],
   "source": [
    "# use data accumulated in file lr_results.csv\n",
    "res = pd.read_csv('lr_results.csv')\n",
    "\n",
    "# get time for learning model with C = 0.1\n",
    "sec = res.duration[(res.C==1e-1) & (res.X_train=='5Fold(X_dummy)')]\n",
    "aucroc = res.AUCROC[(res.C==0.1) & (res.X_train=='5Fold(X_dummy)')]\n",
    "print 'Logistic Regression using dummy variables\\n\\tduration: %d sec, C: %s, AUC-ROC: %0.4f' %(sec, 0.1, aucroc)\n",
    "\n",
    "# plot perfomance of LR for C=[1e-10, 1e-9, ..., 1e9, 1e10]\n",
    "plt.figure(figsize=(8,6))\n",
    "plt.xlim([1e-11,1e11])\n",
    "res = res[res.C.isin(C)]\n",
    "# \n",
    "plt.plot(res.C[res.X_train=='5Fold(X_scaled)'], res.AUCROC[res.X_train=='5Fold(X_scaled)'], \n",
    "         'ro-', label='almost raw data')\n",
    "plt.plot(res.C[res.X_train=='5Fold(X_dummy)'], res.AUCROC[res.X_train=='5Fold(X_dummy)'],\n",
    "         'kx-', label='with dummy features')\n",
    "plt.xscale('log')\n",
    "plt.legend(loc='lower right')\n",
    "plt.xlabel('C')\n",
    "plt.ylabel('AUC-ROC')\n",
    "plt.title('perfomance of LR')\n",
    "plt.show()"
   ]
  },
  {
   "cell_type": "markdown",
   "metadata": {},
   "source": [
    "#### 2.5. Какое минимальное и максимальное значение прогноза на тестовой выборке получилось у лучшего из алгоритмов?\n",
    "Лучшим классификатором оказался алгоритм логистической регрессии с параметром `C=0.01`. В следующих ячейках этот алгоритм обучается на всей выборке с использованием \"мешка слов\". Затем через него пропускается тестовая выборка, в результате чего на выходе оказываются вероятности выигрыша команды  `radiant`. Эти данные записываются в файл `'my1stout.csv'`. Полученные данные показали качество **`0.75521`** в соревновании на Kaggle. Данные по максимальному и минимальному прогнозу содержаться в последней ячейке."
   ]
  },
  {
   "cell_type": "code",
   "execution_count": 17,
   "metadata": {
    "collapsed": false
   },
   "outputs": [],
   "source": [
    "# categorical features\n",
    "drop_cat = ['lobby_type', 'r1_hero', 'r2_hero', 'r3_hero', 'r4_hero', \n",
    "           'r5_hero', 'd1_hero', 'd2_hero', 'd3_hero', 'd4_hero', 'd5_hero']\n",
    "\n",
    "# reading test data\n",
    "test = pd.read_csv('./data/features_test.csv', index_col='match_id')\n",
    "\n",
    "# is there are any NA?\n",
    "test = test.fillna(0)\n",
    "# print 'total NAs:', sum (len(test) - test.count())\n",
    "\n",
    "# scaling data\n",
    "scaler = StandardScaler()\n",
    "X_scaled = scaler.fit_transform(X.drop(drop_cat, 1))\n",
    "test_scaled = scaler.transform(test.drop(drop_cat, 1))\n",
    "\n",
    "# stacking train and test sets\n",
    "X_dummy = np.hstack((X_scaled, get_dummy_heroes(X)))\n",
    "test_dummies = np.hstack((test_scaled, get_dummy_heroes(test)))"
   ]
  },
  {
   "cell_type": "code",
   "execution_count": 18,
   "metadata": {
    "collapsed": false
   },
   "outputs": [
    {
     "data": {
      "text/plain": [
       "LogisticRegression(C=0.01, class_weight=None, dual=False, fit_intercept=True,\n",
       "          intercept_scaling=1, max_iter=100, multi_class='ovr', n_jobs=4,\n",
       "          penalty='l2', random_state=19, solver='liblinear', tol=0.0001,\n",
       "          verbose=0, warm_start=False)"
      ]
     },
     "execution_count": 18,
     "metadata": {},
     "output_type": "execute_result"
    }
   ],
   "source": [
    "# set peremeters\n",
    "random_state = 19\n",
    "C = 1e-2\n",
    "\n",
    "# learning model\n",
    "clf = LogisticRegression(C=C, random_state=random_state, n_jobs=4)\n",
    "clf.fit(X_dummy, y)"
   ]
  },
  {
   "cell_type": "code",
   "execution_count": 19,
   "metadata": {
    "collapsed": false
   },
   "outputs": [],
   "source": [
    "pred = clf.predict_proba(test_dummies)[:, 1]\n",
    "output = test.drop(test.columns[range(102)], axis=1)\n",
    "output['radiant_win'] = pred.tolist()\n",
    "# output.to_csv('my1stout.csv')"
   ]
  },
  {
   "cell_type": "code",
   "execution_count": 21,
   "metadata": {
    "collapsed": false
   },
   "outputs": [
    {
     "name": "stdout",
     "output_type": "stream",
     "text": [
      "min prob: 0.008314, max prob: 0.995884\n"
     ]
    }
   ],
   "source": [
    "print 'min prob: %0.6f, max prob: %0.6f' % (output.radiant_win.min(), output.radiant_win.max())"
   ]
  },
  {
   "cell_type": "code",
   "execution_count": null,
   "metadata": {
    "collapsed": true
   },
   "outputs": [],
   "source": []
  }
 ],
 "metadata": {
  "kernelspec": {
   "display_name": "Python 2",
   "language": "python",
   "name": "python2"
  },
  "language_info": {
   "codemirror_mode": {
    "name": "ipython",
    "version": 2
   },
   "file_extension": ".py",
   "mimetype": "text/x-python",
   "name": "python",
   "nbconvert_exporter": "python",
   "pygments_lexer": "ipython2",
   "version": "2.7.11"
  }
 },
 "nbformat": 4,
 "nbformat_minor": 0
}
